{
 "cells": [
  {
   "cell_type": "code",
   "execution_count": 7,
   "metadata": {},
   "outputs": [],
   "source": [
    "import tensorflow as tf\n",
    "from tensorflow.keras.models import Sequential\n",
    "from tensorflow.keras.layers import Dense, Conv2D, Flatten, Dropout, MaxPooling2D\n",
    "from tensorflow.keras.preprocessing.image import ImageDataGenerator\n",
    "\n",
    "import os\n",
    "import numpy as np\n",
    "import matplotlib.pyplot as plt"
   ]
  },
  {
   "cell_type": "code",
   "execution_count": 8,
   "metadata": {},
   "outputs": [
    {
     "name": "stdout",
     "output_type": "stream",
     "text": [
      "C:\\Users\\Anonymous\\Desktop\\Multi class\n"
     ]
    }
   ],
   "source": [
    "PATH = os.path.join(os.getcwd())\n",
    "train_dir = os.path.join(PATH, 'training')\n",
    "validation_dir = os.path.join(PATH, 'validation')\n",
    "print(PATH)"
   ]
  },
  {
   "cell_type": "code",
   "execution_count": 9,
   "metadata": {},
   "outputs": [],
   "source": [
    "train_buildings_dir = os.path.join(train_dir, 'buildings')\n",
    "train_forest_dir = os.path.join(train_dir, 'forest') \n",
    "train_glacier_dir = os.path.join(train_dir, 'glacier') \n",
    "train_mountain_dir = os.path.join(train_dir, 'mountain') \n",
    "train_sea_dir = os.path.join(train_dir, 'sea') \n",
    "train_street_dir = os.path.join(train_dir, 'street')  \n",
    "\n",
    "validation_buildings_dir = os.path.join(validation_dir, 'buildings')\n",
    "validation_forest_dir = os.path.join(validation_dir, 'forest') \n",
    "validation_glacier_dir = os.path.join(validation_dir, 'glacier') \n",
    "validation_mountain_dir = os.path.join(validation_dir, 'mountain') \n",
    "validation_sea_dir = os.path.join(validation_dir, 'sea') \n",
    "validation_street_dir = os.path.join(validation_dir, 'street')"
   ]
  },
  {
   "cell_type": "code",
   "execution_count": 18,
   "metadata": {},
   "outputs": [
    {
     "name": "stdout",
     "output_type": "stream",
     "text": [
      "2191\n",
      "474\n"
     ]
    }
   ],
   "source": [
    "print(len(os.listdir(train_buildings_dir)))\n",
    "print(len(os.listdir(validation_forest_dir)))"
   ]
  },
  {
   "cell_type": "code",
   "execution_count": 19,
   "metadata": {},
   "outputs": [],
   "source": [
    "num_buildings_tr = len(os.listdir(train_buildings_dir))\n",
    "num_forest_tr = len(os.listdir(train_forest_dir))\n",
    "num_glacier_tr = len(os.listdir(train_glacier_dir))\n",
    "num_mountain_tr = len(os.listdir(train_mountain_dir))\n",
    "num_sea_tr = len(os.listdir(train_sea_dir))\n",
    "num_street_tr = len(os.listdir(train_street_dir))\n",
    "\n",
    "num_buildings_val = len(os.listdir(validation_buildings_dir))\n",
    "num_forest_val = len(os.listdir(validation_forest_dir))\n",
    "num_glacier_val = len(os.listdir(validation_glacier_dir))\n",
    "num_mountain_val = len(os.listdir(validation_mountain_dir))\n",
    "num_sea_val = len(os.listdir(validation_sea_dir))\n",
    "num_street_val = len(os.listdir(validation_street_dir))\n",
    "\n",
    "total_train = num_buildings_tr + num_forest_tr + num_glacier_tr + num_mountain_tr + num_sea_tr + num_street_tr\n",
    "total_val = num_buildings_val + num_forest_val + num_glacier_val + num_glacier_val + num_sea_val + num_street_val"
   ]
  },
  {
   "cell_type": "code",
   "execution_count": 20,
   "metadata": {},
   "outputs": [
    {
     "name": "stdout",
     "output_type": "stream",
     "text": [
      "Total training building images: 2191\n",
      "Total training forest images: 2271\n",
      "Total training glacier images: 2404\n",
      "Total training mountain images: 2512\n",
      "Total training sea images: 2274\n",
      "Total training building images: 2382\n",
      "Total validation building images: 437\n",
      "Total validation forest images: 474\n",
      "Total validation glacier images: 553\n",
      "Total validation mountain images: 525\n",
      "Total validation sea images: 510\n",
      "Total validation building images: 501\n",
      "Total training images: 14034\n",
      "Total validation images: 3028\n"
     ]
    }
   ],
   "source": [
    "print(\"Total training building images:\", num_buildings_tr)\n",
    "print(\"Total training forest images:\", num_forest_tr)\n",
    "print(\"Total training glacier images:\", num_glacier_tr)\n",
    "print(\"Total training mountain images:\", num_mountain_tr)\n",
    "print(\"Total training sea images:\", num_sea_tr)\n",
    "print(\"Total training building images:\", num_street_tr)\n",
    "\n",
    "print(\"Total validation building images:\", num_buildings_val)\n",
    "print(\"Total validation forest images:\", num_forest_val)\n",
    "print(\"Total validation glacier images:\", num_glacier_val)\n",
    "print(\"Total validation mountain images:\", num_mountain_val)\n",
    "print(\"Total validation sea images:\", num_sea_val)\n",
    "print(\"Total validation building images:\", num_street_val)\n",
    "\n",
    "print(\"Total training images:\", total_train)\n",
    "print(\"Total validation images:\", total_val)"
   ]
  },
  {
   "cell_type": "code",
   "execution_count": 36,
   "metadata": {},
   "outputs": [],
   "source": [
    "batch_size = 128\n",
    "epochs = 5\n",
    "IMG_HEIGHT = 150\n",
    "IMG_WIDTH = 150"
   ]
  },
  {
   "cell_type": "code",
   "execution_count": 22,
   "metadata": {},
   "outputs": [],
   "source": [
    "train_image_generator = ImageDataGenerator(rescale=1./255)\n",
    "validation_image_generator = ImageDataGenerator(rescale=1./255)"
   ]
  },
  {
   "cell_type": "code",
   "execution_count": 23,
   "metadata": {},
   "outputs": [
    {
     "name": "stdout",
     "output_type": "stream",
     "text": [
      "Found 14034 images belonging to 6 classes.\n",
      "Found 3000 images belonging to 6 classes.\n"
     ]
    }
   ],
   "source": [
    "train_data_gen = train_image_generator.flow_from_directory(batch_size=batch_size,\n",
    "                                                           directory=train_dir,\n",
    "                                                           shuffle=True,\n",
    "                                                           target_size=(IMG_HEIGHT, IMG_WIDTH),\n",
    "                                                           class_mode='categorical')\n",
    "\n",
    "val_data_gen = validation_image_generator.flow_from_directory(batch_size=batch_size,\n",
    "                                                              directory=validation_dir,\n",
    "                                                              target_size=(IMG_HEIGHT, IMG_WIDTH),\n",
    "                                                              class_mode='categorical')"
   ]
  },
  {
   "cell_type": "code",
   "execution_count": 30,
   "metadata": {},
   "outputs": [],
   "source": [
    "model = Sequential([\n",
    "    Conv2D(16, 3, padding='same', activation='relu', input_shape=(IMG_HEIGHT, IMG_WIDTH ,3)),\n",
    "    MaxPooling2D(),\n",
    "    Conv2D(32, 3, padding='same', activation='relu'),\n",
    "    MaxPooling2D(),\n",
    "    Conv2D(64, 3, padding='same', activation='relu'),\n",
    "    MaxPooling2D(),\n",
    "    Flatten(),\n",
    "    Dense(512, activation='relu'),\n",
    "    Dense(6, activation='softmax')\n",
    "])"
   ]
  },
  {
   "cell_type": "code",
   "execution_count": 33,
   "metadata": {},
   "outputs": [],
   "source": [
    "model.compile(optimizer='adam',\n",
    "                  loss='categorical_crossentropy',\n",
    "                  metrics=['accuracy'])"
   ]
  },
  {
   "cell_type": "code",
   "execution_count": 34,
   "metadata": {},
   "outputs": [
    {
     "name": "stdout",
     "output_type": "stream",
     "text": [
      "Model: \"sequential_4\"\n",
      "_________________________________________________________________\n",
      "Layer (type)                 Output Shape              Param #   \n",
      "=================================================================\n",
      "conv2d_12 (Conv2D)           (None, 150, 150, 16)      448       \n",
      "_________________________________________________________________\n",
      "max_pooling2d_12 (MaxPooling (None, 75, 75, 16)        0         \n",
      "_________________________________________________________________\n",
      "conv2d_13 (Conv2D)           (None, 75, 75, 32)        4640      \n",
      "_________________________________________________________________\n",
      "max_pooling2d_13 (MaxPooling (None, 37, 37, 32)        0         \n",
      "_________________________________________________________________\n",
      "conv2d_14 (Conv2D)           (None, 37, 37, 64)        18496     \n",
      "_________________________________________________________________\n",
      "max_pooling2d_14 (MaxPooling (None, 18, 18, 64)        0         \n",
      "_________________________________________________________________\n",
      "flatten_4 (Flatten)          (None, 20736)             0         \n",
      "_________________________________________________________________\n",
      "dense_8 (Dense)              (None, 512)               10617344  \n",
      "_________________________________________________________________\n",
      "dense_9 (Dense)              (None, 6)                 3078      \n",
      "=================================================================\n",
      "Total params: 10,644,006\n",
      "Trainable params: 10,644,006\n",
      "Non-trainable params: 0\n",
      "_________________________________________________________________\n"
     ]
    }
   ],
   "source": [
    "model.summary()"
   ]
  },
  {
   "cell_type": "code",
   "execution_count": 39,
   "metadata": {},
   "outputs": [
    {
     "name": "stdout",
     "output_type": "stream",
     "text": [
      "WARNING:tensorflow:sample_weight modes were coerced from\n",
      "  ...\n",
      "    to  \n",
      "  ['...']\n",
      "WARNING:tensorflow:sample_weight modes were coerced from\n",
      "  ...\n",
      "    to  \n",
      "  ['...']\n",
      "Train for 109 steps, validate for 23 steps\n",
      "Epoch 1/5\n",
      "109/109 [==============================] - 161s 1s/step - loss: 0.6666 - accuracy: 0.7512 - val_loss: 0.6374 - val_accuracy: 0.7765\n",
      "Epoch 2/5\n",
      "109/109 [==============================] - 143s 1s/step - loss: 0.5483 - accuracy: 0.8022 - val_loss: 0.5645 - val_accuracy: 0.7979\n",
      "Epoch 3/5\n",
      "109/109 [==============================] - 143s 1s/step - loss: 0.4352 - accuracy: 0.8450 - val_loss: 0.5508 - val_accuracy: 0.8074\n",
      "Epoch 4/5\n",
      "109/109 [==============================] - 143s 1s/step - loss: 0.3292 - accuracy: 0.8855 - val_loss: 0.5242 - val_accuracy: 0.8237\n",
      "Epoch 5/5\n",
      "109/109 [==============================] - 145s 1s/step - loss: 0.2651 - accuracy: 0.9079 - val_loss: 0.6222 - val_accuracy: 0.7955\n"
     ]
    }
   ],
   "source": [
    "history = model.fit(\n",
    "    train_data_gen,\n",
    "    steps_per_epoch=total_train // batch_size,\n",
    "    epochs=epochs,\n",
    "    validation_data=val_data_gen,\n",
    "    validation_steps=total_val // batch_size\n",
    ")"
   ]
  },
  {
   "cell_type": "code",
   "execution_count": 40,
   "metadata": {},
   "outputs": [
    {
     "data": {
      "image/png": "[encoded data removed]",
      "text/plain": [
       "<Figure size 576x576 with 2 Axes>"
      ]
     },
     "metadata": {
      "needs_background": "light"
     },
     "output_type": "display_data"
    }
   ],
   "source": [
    "acc = history.history['accuracy']\n",
    "val_acc = history.history['val_accuracy']\n",
    "\n",
    "loss=history.history['loss']\n",
    "val_loss=history.history['val_loss']\n",
    "\n",
    "epochs_range = range(epochs)\n",
    "\n",
    "plt.figure(figsize=(8, 8))\n",
    "plt.subplot(1, 2, 1)\n",
    "plt.plot(epochs_range, acc, label='Training Accuracy')\n",
    "plt.plot(epochs_range, val_acc, label='Validation Accuracy')\n",
    "plt.legend(loc='lower right')\n",
    "plt.title('Training and Validation Accuracy')\n",
    "\n",
    "plt.subplot(1, 2, 2)\n",
    "plt.plot(epochs_range, loss, label='Training Loss')\n",
    "plt.plot(epochs_range, val_loss, label='Validation Loss')\n",
    "plt.legend(loc='upper right')\n",
    "plt.title('Training and Validation Loss')\n",
    "plt.show()"
   ]
  },
  {
   "cell_type": "code",
   "execution_count": 45,
   "metadata": {},
   "outputs": [
    {
     "name": "stdout",
     "output_type": "stream",
     "text": [
      "['101.jpg', '103.jpg', '110.jpg', '117.jpg', '119.jpg', '121.jpg', '126.jpg', '127.jpg', '129.jpg', '130.jpg', '132.jpg', '133.jpg', '135.jpg', '140.jpg', '141.jpg', '143.jpg', '144.jpg', '145.jpg', '149.jpg', '152.jpg', '156.jpg', '161.jpg', '169.jpg', '93.jpg', '99.jpg']\n"
     ]
    }
   ],
   "source": [
    "import numpy as np\n",
    "\n",
    "predict_dir_path='testing/'\n",
    "test_files = [f for f in os.listdir(predict_dir_path) if os.path.isfile(os.path.join(predict_dir_path, f))]\n",
    "print(test_files)\n",
    "\n",
    "IMG_WIDTH=150\n",
    "IMG_HEIGHT=150"
   ]
  },
  {
   "cell_type": "code",
   "execution_count": 50,
   "metadata": {},
   "outputs": [
    {
     "name": "stdout",
     "output_type": "stream",
     "text": [
      "99.jpg\n",
      "[[0. 0. 1. 0. 0. 0.]]\n",
      "99.jpg\n",
      "[[1. 0. 0. 0. 0. 0.]]\n",
      "99.jpg\n",
      "[[0. 0. 1. 0. 0. 0.]]\n",
      "99.jpg\n",
      "[[0. 0. 1. 0. 0. 0.]]\n",
      "99.jpg\n",
      "[[0. 0. 1. 0. 0. 0.]]\n",
      "99.jpg\n",
      "[[0. 0. 0. 0. 0. 1.]]\n",
      "99.jpg\n",
      "[[1. 0. 0. 0. 0. 0.]]\n",
      "99.jpg\n",
      "[[0. 0. 1. 0. 0. 0.]]\n",
      "99.jpg\n",
      "[[0. 0. 1. 0. 0. 0.]]\n",
      "99.jpg\n",
      "[[0. 0. 1. 0. 0. 0.]]\n",
      "99.jpg\n",
      "[[9.9966502e-01 0.0000000e+00 0.0000000e+00 0.0000000e+00 3.3494114e-04\n",
      "  0.0000000e+00]]\n",
      "99.jpg\n",
      "[[0. 0. 0. 0. 0. 1.]]\n",
      "99.jpg\n",
      "[[0. 0. 0. 0. 1. 0.]]\n",
      "99.jpg\n",
      "[[0. 0. 1. 0. 0. 0.]]\n",
      "99.jpg\n",
      "[[0. 0. 0. 0. 0. 1.]]\n",
      "99.jpg\n",
      "[[0. 0. 1. 0. 0. 0.]]\n",
      "99.jpg\n",
      "[[1. 0. 0. 0. 0. 0.]]\n",
      "99.jpg\n",
      "[[1. 0. 0. 0. 0. 0.]]\n",
      "99.jpg\n",
      "[[0. 1. 0. 0. 0. 0.]]\n",
      "99.jpg\n",
      "[[0. 1. 0. 0. 0. 0.]]\n",
      "99.jpg\n",
      "[[1. 0. 0. 0. 0. 0.]]\n",
      "99.jpg\n",
      "[[0. 0. 1. 0. 0. 0.]]\n",
      "99.jpg\n",
      "[[0. 0. 1. 0. 0. 0.]]\n",
      "99.jpg\n",
      "[[0. 0. 1. 0. 0. 0.]]\n",
      "99.jpg\n",
      "[[0. 0. 1. 0. 0. 0.]]\n"
     ]
    }
   ],
   "source": [
    "from keras.preprocessing import image\n",
    "\n",
    "for file in test_files:\n",
    "    img = image.load_img(predict_dir_path+file, target_size=(IMG_WIDTH, IMG_HEIGHT))\n",
    "    x = image.img_to_array(img)\n",
    "    x = np.expand_dims(x, axis=0)\n",
    "\n",
    "    images = np.vstack([x])\n",
    "    classes = model.predict(images, batch_size=10)\n",
    "    print(fn)\n",
    "    print(classes)"
   ]
  },
  {
   "cell_type": "code",
   "execution_count": null,
   "metadata": {},
   "outputs": [],
   "source": []
  }
 ],
 "metadata": {
  "kernelspec": {
   "display_name": "Python 3.6.10 64-bit ('tensor': conda)",
   "language": "python",
   "name": "python361064bittensorcondad5572788b5fc4df7b280bb05b46757ff"
  },
  "language_info": {
   "codemirror_mode": {
    "name": "ipython",
    "version": 3
   },
   "file_extension": ".py",
   "mimetype": "text/x-python",
   "name": "python",
   "nbconvert_exporter": "python",
   "pygments_lexer": "ipython3",
   "version": "3.6.10"
  }
 },
 "nbformat": 4,
 "nbformat_minor": 4
}
